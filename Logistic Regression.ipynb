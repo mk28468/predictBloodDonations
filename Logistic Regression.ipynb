{
 "cells": [
  {
   "cell_type": "code",
   "execution_count": 55,
   "metadata": {
    "collapsed": false
   },
   "outputs": [
    {
     "data": {
      "text/plain": [
       "Index(['ID', 'Months since Last Donation', 'Number of Donations',\n",
       "       'Months since First Donation', 'Donation per Month',\n",
       "       'Month per Donation', 'Made Donation in March 2007'],\n",
       "      dtype='object')"
      ]
     },
     "execution_count": 55,
     "metadata": {},
     "output_type": "execute_result"
    }
   ],
   "source": [
    "%matplotlib inline\n",
    "import pandas\n",
    "traindata = pandas.read_csv(\"Training Data.csv\")\n",
    "#db.describe\n",
    "traindata.columns"
   ]
  },
  {
   "cell_type": "code",
   "execution_count": 56,
   "metadata": {
    "collapsed": false
   },
   "outputs": [
    {
     "data": {
      "text/plain": [
       "Index(['ID', 'Months since Last Donation', 'Number of Donations',\n",
       "       'Total Volume Donated (c.c.)', 'Months since First Donation',\n",
       "       'Prediction'],\n",
       "      dtype='object')"
      ]
     },
     "execution_count": 56,
     "metadata": {},
     "output_type": "execute_result"
    }
   ],
   "source": [
    "testdata = pandas.read_csv(\"Test Data.csv\")\n",
    "testdata.columns"
   ]
  },
  {
   "cell_type": "code",
   "execution_count": 57,
   "metadata": {
    "collapsed": false
   },
   "outputs": [],
   "source": [
    "import numpy as np\n",
    "import statsmodels.api as sm\n",
    "import matplotlib.pyplot as plt\n",
    "from patsy import dmatrices\n",
    "from sklearn.linear_model import LogisticRegression\n",
    "#from sklearn.cross_validation import train_test_split\n",
    "from sklearn import metrics\n",
    "from sklearn.cross_validation import cross_val_score\n",
    "from sklearn import linear_model"
   ]
  },
  {
   "cell_type": "code",
   "execution_count": 58,
   "metadata": {
    "collapsed": false
   },
   "outputs": [],
   "source": [
    "#getting data sets\n",
    "X_train = traindata[['Months since Last Donation','Number of Donations','Months since First Donation']]\n",
    "#X_train = traindata[['Donation per Month']]\n",
    "Y_train = traindata['Made Donation in March 2007']\n",
    "X_test = testdata[['Months since Last Donation','Number of Donations','Months since First Donation']]\n",
    "Y_test = testdata['Prediction']"
   ]
  },
  {
   "cell_type": "code",
   "execution_count": 59,
   "metadata": {
    "collapsed": false
   },
   "outputs": [],
   "source": [
    "X_train = X_train.as_matrix().astype(np.float)\n",
    "X_test = X_test.as_matrix().astype(np.float)\n",
    "Y_train = Y_train.as_matrix().astype(np.float)\n",
    "Y_test = Y_test.as_matrix().astype(np.float)"
   ]
  },
  {
   "cell_type": "code",
   "execution_count": 60,
   "metadata": {
    "collapsed": false
   },
   "outputs": [],
   "source": [
    "LRmodel = linear_model.LogisticRegression()\n",
    "LRmodel = LRmodel.fit(X_train, Y_train)"
   ]
  },
  {
   "cell_type": "code",
   "execution_count": 61,
   "metadata": {
    "collapsed": false
   },
   "outputs": [
    {
     "data": {
      "text/plain": [
       "0.76388888888888884"
      ]
     },
     "execution_count": 61,
     "metadata": {},
     "output_type": "execute_result"
    }
   ],
   "source": [
    "#check the accuracy of the regression\n",
    "LRmodel.score(X_train, Y_train)"
   ]
  },
  {
   "cell_type": "code",
   "execution_count": 62,
   "metadata": {
    "collapsed": true
   },
   "outputs": [],
   "source": [
    "from sklearn.metrics import confusion_matrix\n"
   ]
  },
  {
   "cell_type": "code",
   "execution_count": 63,
   "metadata": {
    "collapsed": false
   },
   "outputs": [
    {
     "data": {
      "text/plain": [
       "0.76041666666666663"
      ]
     },
     "execution_count": 63,
     "metadata": {},
     "output_type": "execute_result"
    }
   ],
   "source": [
    "#check the null error rate\n",
    "#only 24 percent of people donated in March, 2007, which means you can simply get a 76 percent \n",
    "#accuracy just by saying no. \n",
    "#trying to predict\n",
    "Y_train.mean()\n",
    "1-Y_train.mean()"
   ]
  },
  {
   "cell_type": "code",
   "execution_count": 64,
   "metadata": {
    "collapsed": false
   },
   "outputs": [],
   "source": [
    "LRpredict = LRmodel.predict_proba(X_test)\n",
    "#print(predict)"
   ]
  },
  {
   "cell_type": "code",
   "execution_count": 65,
   "metadata": {
    "collapsed": false
   },
   "outputs": [],
   "source": [
    "import pandas as pd\n",
    "import numpy as np\n",
    "LRsolution = pd.DataFrame(testdata['ID'])\n",
    "LRnp_values = np.array(LRpredict,dtype = np.float)\n",
    "solution['LRprobs'] = LRnp_values[:,1]\n",
    "solution.to_csv(\"LRoutput.csv\",index=False)"
   ]
  },
  {
   "cell_type": "code",
   "execution_count": 66,
   "metadata": {
    "collapsed": false
   },
   "outputs": [],
   "source": [
    "LRmatrix=confusion_matrix(Y_train,LRmodel.predict(X_train))"
   ]
  },
  {
   "cell_type": "code",
   "execution_count": 67,
   "metadata": {
    "collapsed": false
   },
   "outputs": [
    {
     "name": "stdout",
     "output_type": "stream",
     "text": [
      "[[425  13]\n",
      " [123  15]]\n"
     ]
    },
    {
     "data": {
      "image/png": "[encoded data removed]",
      "text/plain": [
       "<matplotlib.figure.Figure at 0x11b910438>"
      ]
     },
     "metadata": {},
     "output_type": "display_data"
    }
   ],
   "source": [
    "import pylab as pl\n",
    "labels = ['0', '1']\n",
    "print(LRmatrix)\n",
    "fig = plt.figure()\n",
    "ax = fig.add_subplot(111)\n",
    "cax = ax.matshow(LRmatrix)\n",
    "pl.title('Logistic Regression Confusion Matrix')\n",
    "fig.colorbar(cax)\n",
    "ax.set_xticklabels([''] + labels)\n",
    "ax.set_yticklabels([''] + labels)\n",
    "pl.xlabel('X_train Predicted')\n",
    "pl.ylabel('Y_train')\n",
    "pl.show()"
   ]
  },
  {
   "cell_type": "code",
   "execution_count": 68,
   "metadata": {
    "collapsed": false
   },
   "outputs": [],
   "source": [
    "LRprobsTest = LRmodel.predict_proba(X_train)\n",
    "#print(LRprobs)\n",
    "from sklearn.metrics import roc_curve, auc"
   ]
  },
  {
   "cell_type": "code",
   "execution_count": 69,
   "metadata": {
    "collapsed": false
   },
   "outputs": [],
   "source": [
    "LRtrainprobs = LRmodel.predict_proba(X_train)\n",
    "def print_roc_probas(name, probs, ytest):\n",
    "    fpr, tpr, thresholds = roc_curve(ytest, probs[::,1])\n",
    "\n",
    "    roc_auc = auc(fpr, tpr)\n",
    "    print (roc_auc)\n",
    "    plt.clf()\n",
    "    plt.plot(fpr, tpr)\n",
    "    plt.plot([0, 1], [0, 1], 'k--')\n",
    "    plt.xlim([0.0, 1.05])\n",
    "    plt.ylim([0.0, 1.05])\n",
    "    plt.xlabel('False Positive Rate')\n",
    "    plt.ylabel('True Positive Rate')\n",
    "    plt.title(name)\n",
    "    plt.show()\n",
    "    "
   ]
  },
  {
   "cell_type": "code",
   "execution_count": 70,
   "metadata": {
    "collapsed": false
   },
   "outputs": [
    {
     "name": "stdout",
     "output_type": "stream",
     "text": [
      "0.748792270531\n"
     ]
    },
    {
     "data": {
      "image/png": "[encoded data removed]",
      "text/plain": [
       "<matplotlib.figure.Figure at 0x11b919048>"
      ]
     },
     "metadata": {},
     "output_type": "display_data"
    }
   ],
   "source": [
    "print_roc_probas(\"Logistic Regression ROC\",LRprobsTest, Y_train)"
   ]
  },
  {
   "cell_type": "code",
   "execution_count": 71,
   "metadata": {
    "collapsed": false
   },
   "outputs": [],
   "source": [
    "#print (metrics.accuracy_score(Y_test, predict))\n",
    "#print (metrics.roc_auc_score(Y_test, probs[:, 1]))"
   ]
  },
  {
   "cell_type": "code",
   "execution_count": 72,
   "metadata": {
    "collapsed": false
   },
   "outputs": [
    {
     "name": "stdout",
     "output_type": "stream",
     "text": [
      "[ 0.72413793  0.75862069  0.77586207  0.75862069  0.74137931  0.75862069\n",
      "  0.70689655  0.77586207  0.76785714  0.76785714]\n",
      "0.753571428571\n"
     ]
    }
   ],
   "source": [
    "# evaluate the model using 10-fold cross-validation\n",
    "LRscores = cross_val_score(LogisticRegression(), X_train, Y_train, scoring='accuracy', cv=10)\n",
    "print (LRscores)\n",
    "print (LRscores.mean())"
   ]
  },
  {
   "cell_type": "code",
   "execution_count": 73,
   "metadata": {
    "collapsed": false
   },
   "outputs": [],
   "source": [
    "#we got a 75.4 percent accuracy \n"
   ]
  },
  {
   "cell_type": "code",
   "execution_count": 74,
   "metadata": {
    "collapsed": false
   },
   "outputs": [
    {
     "name": "stdout",
     "output_type": "stream",
     "text": [
      "[[  2.09479723e-02   9.79052028e-01]\n",
      " [  3.57875440e-01   6.42124560e-01]\n",
      " [  3.21565742e-01   6.78434258e-01]\n",
      " ..., \n",
      " [  9.61746869e-01   3.82531313e-02]\n",
      " [  9.91558164e-01   8.44183580e-03]\n",
      " [  9.99782554e-01   2.17445763e-04]]\n"
     ]
    }
   ],
   "source": [
    "#Try log lost for Logistic Regression with X_train and Y_train\n",
    "LRprobsTest = LRmodel.predict_proba(X_train)\n",
    "print(LRprobsTest)"
   ]
  },
  {
   "cell_type": "code",
   "execution_count": 75,
   "metadata": {
    "collapsed": false
   },
   "outputs": [
    {
     "data": {
      "text/plain": [
       "0.48318098826630723"
      ]
     },
     "execution_count": 75,
     "metadata": {},
     "output_type": "execute_result"
    }
   ],
   "source": [
    "#log loss for Random Forest\n",
    "metrics.log_loss(Y_train, LRprobsTest)"
   ]
  },
  {
   "cell_type": "code",
   "execution_count": 76,
   "metadata": {
    "collapsed": false
   },
   "outputs": [],
   "source": [
    "#now for random forest\n",
    "import sklearn.ensemble as sk\n",
    "rfc = sk.RandomForestClassifier(n_estimators=500, oob_score=True)\n",
    "RFmodel = rfc.fit(X_train, Y_train)"
   ]
  },
  {
   "cell_type": "code",
   "execution_count": 77,
   "metadata": {
    "collapsed": false
   },
   "outputs": [
    {
     "data": {
      "text/plain": [
       "0.73784722222222221"
      ]
     },
     "execution_count": 77,
     "metadata": {},
     "output_type": "execute_result"
    }
   ],
   "source": [
    "rfc.oob_score_"
   ]
  },
  {
   "cell_type": "code",
   "execution_count": 78,
   "metadata": {
    "collapsed": false,
    "scrolled": true
   },
   "outputs": [
    {
     "data": {
      "text/plain": [
       "0.9375"
      ]
     },
     "execution_count": 78,
     "metadata": {},
     "output_type": "execute_result"
    }
   ],
   "source": [
    "RFmodel.score(X_train, Y_train)"
   ]
  },
  {
   "cell_type": "code",
   "execution_count": 79,
   "metadata": {
    "collapsed": false
   },
   "outputs": [
    {
     "name": "stdout",
     "output_type": "stream",
     "text": [
      "[ 1.  0.  0.  0.  0.  1.  0.  0.  0.  0.  1.  0.  0.  0.  1.  0.  0.  1.\n",
      "  0.  0.  1.  1.  0.  0.  0.  0.  0.  0.  0.  1.  0.  0.  0.  0.  0.  0.\n",
      "  0.  0.  0.  0.  0.  1.  0.  0.  0.  0.  0.  0.  0.  0.  1.  1.  0.  1.\n",
      "  0.  0.  0.  1.  0.  0.  0.  0.  0.  0.  0.  0.  0.  0.  0.  0.  0.  0.\n",
      "  0.  0.  0.  0.  0.  0.  0.  1.  0.  0.  0.  0.  1.  0.  0.  0.  0.  0.\n",
      "  0.  0.  0.  0.  0.  0.  0.  0.  0.  0.  0.  0.  0.  0.  0.  1.  0.  1.\n",
      "  0.  0.  0.  0.  0.  1.  0.  0.  0.  1.  1.  0.  0.  1.  0.  0.  0.  0.\n",
      "  0.  0.  0.  0.  0.  0.  0.  0.  0.  0.  0.  0.  1.  0.  1.  0.  0.  0.\n",
      "  0.  0.  0.  0.  0.  0.  0.  0.  0.  1.  0.  0.  0.  0.  1.  0.  0.  0.\n",
      "  0.  0.  0.  0.  0.  0.  0.  0.  0.  0.  0.  0.  0.  0.  0.  0.  0.  0.\n",
      "  0.  0.  1.  0.  1.  0.  0.  0.  0.  0.  1.  0.  0.  0.  0.  0.  0.  0.\n",
      "  0.  0.]\n"
     ]
    }
   ],
   "source": [
    "RFpredict = RFmodel.predict(X_test)\n",
    "print(RFpredict)"
   ]
  },
  {
   "cell_type": "code",
   "execution_count": 80,
   "metadata": {
    "collapsed": false
   },
   "outputs": [
    {
     "name": "stdout",
     "output_type": "stream",
     "text": [
      "[[ 0.27483333  0.72516667]\n",
      " [ 0.93        0.07      ]\n",
      " [ 0.90771803  0.09228197]\n",
      " [ 0.906       0.094     ]\n",
      " [ 0.51383333  0.48616667]\n",
      " [ 0.3185      0.6815    ]\n",
      " [ 0.67012893  0.32987107]\n",
      " [ 1.          0.        ]\n",
      " [ 0.98        0.02      ]\n",
      " [ 0.998       0.002     ]\n",
      " [ 0.23904675  0.76095325]\n",
      " [ 0.964       0.036     ]\n",
      " [ 0.812       0.188     ]\n",
      " [ 0.90771803  0.09228197]\n",
      " [ 0.21511111  0.78488889]\n",
      " [ 0.77166416  0.22833584]\n",
      " [ 0.9812      0.0188    ]\n",
      " [ 0.456       0.544     ]\n",
      " [ 0.89        0.11      ]\n",
      " [ 0.79646667  0.20353333]\n",
      " [ 0.05625714  0.94374286]\n",
      " [ 0.46942857  0.53057143]\n",
      " [ 0.59933333  0.40066667]\n",
      " [ 0.90771803  0.09228197]\n",
      " [ 0.94        0.06      ]\n",
      " [ 0.79        0.21      ]\n",
      " [ 0.58015029  0.41984971]\n",
      " [ 1.          0.        ]\n",
      " [ 0.958       0.042     ]\n",
      " [ 0.27483333  0.72516667]\n",
      " [ 0.84        0.16      ]\n",
      " [ 0.674       0.326     ]\n",
      " [ 0.817493    0.182507  ]\n",
      " [ 0.936       0.064     ]\n",
      " [ 0.875       0.125     ]\n",
      " [ 0.98633333  0.01366667]\n",
      " [ 0.92375     0.07625   ]\n",
      " [ 1.          0.        ]\n",
      " [ 0.76919048  0.23080952]\n",
      " [ 0.90771803  0.09228197]\n",
      " [ 0.51864825  0.48135175]\n",
      " [ 0.3465      0.6535    ]\n",
      " [ 0.904       0.096     ]\n",
      " [ 0.80460678  0.19539322]\n",
      " [ 0.9815      0.0185    ]\n",
      " [ 0.817493    0.182507  ]\n",
      " [ 0.69140556  0.30859444]\n",
      " [ 0.96266667  0.03733333]\n",
      " [ 1.          0.        ]\n",
      " [ 0.946       0.054     ]\n",
      " [ 0.464       0.536     ]\n",
      " [ 0.376       0.624     ]\n",
      " [ 0.604       0.396     ]\n",
      " [ 0.118       0.882     ]\n",
      " [ 0.9774      0.0226    ]\n",
      " [ 0.7393      0.2607    ]\n",
      " [ 0.94        0.06      ]\n",
      " [ 0.11249524  0.88750476]\n",
      " [ 0.92537778  0.07462222]\n",
      " [ 0.76        0.24      ]\n",
      " [ 0.90771803  0.09228197]\n",
      " [ 0.8254      0.1746    ]\n",
      " [ 0.732       0.268     ]\n",
      " [ 0.534       0.466     ]\n",
      " [ 0.8254      0.1746    ]\n",
      " [ 0.94769048  0.05230952]\n",
      " [ 0.968       0.032     ]\n",
      " [ 0.89        0.11      ]\n",
      " [ 0.61716667  0.38283333]\n",
      " [ 0.90771803  0.09228197]\n",
      " [ 0.836       0.164     ]\n",
      " [ 0.84566667  0.15433333]\n",
      " [ 0.95532963  0.04467037]\n",
      " [ 0.90771803  0.09228197]\n",
      " [ 0.998       0.002     ]\n",
      " [ 0.97        0.03      ]\n",
      " [ 0.8855      0.1145    ]\n",
      " [ 0.806       0.194     ]\n",
      " [ 0.96        0.04      ]\n",
      " [ 0.11249524  0.88750476]\n",
      " [ 0.95532963  0.04467037]\n",
      " [ 0.906       0.094     ]\n",
      " [ 0.58015029  0.41984971]\n",
      " [ 0.51864825  0.48135175]\n",
      " [ 0.464       0.536     ]\n",
      " [ 0.93178059  0.06821941]\n",
      " [ 0.77166416  0.22833584]\n",
      " [ 0.94849048  0.05150952]\n",
      " [ 0.89        0.11      ]\n",
      " [ 0.92075556  0.07924444]\n",
      " [ 0.90771803  0.09228197]\n",
      " [ 0.588       0.412     ]\n",
      " [ 0.9815      0.0185    ]\n",
      " [ 0.97919048  0.02080952]\n",
      " [ 0.8305      0.1695    ]\n",
      " [ 0.64657143  0.35342857]\n",
      " [ 0.77266667  0.22733333]\n",
      " [ 0.83        0.17      ]\n",
      " [ 0.969       0.031     ]\n",
      " [ 0.67012893  0.32987107]\n",
      " [ 0.817493    0.182507  ]\n",
      " [ 0.966       0.034     ]\n",
      " [ 0.99633333  0.00366667]\n",
      " [ 0.64083333  0.35916667]\n",
      " [ 0.898       0.102     ]\n",
      " [ 0.42913247  0.57086753]\n",
      " [ 0.962       0.038     ]\n",
      " [ 0.34902381  0.65097619]\n",
      " [ 0.90771803  0.09228197]\n",
      " [ 0.9276      0.0724    ]\n",
      " [ 0.996       0.004     ]\n",
      " [ 0.90771803  0.09228197]\n",
      " [ 0.674       0.326     ]\n",
      " [ 0.21793333  0.78206667]\n",
      " [ 0.906       0.094     ]\n",
      " [ 0.984       0.016     ]\n",
      " [ 0.92425416  0.07574584]\n",
      " [ 0.48349048  0.51650952]\n",
      " [ 0.356       0.644     ]\n",
      " [ 0.99875     0.00125   ]\n",
      " [ 0.966       0.034     ]\n",
      " [ 0.37442381  0.62557619]\n",
      " [ 0.926       0.074     ]\n",
      " [ 0.774       0.226     ]\n",
      " [ 0.56466667  0.43533333]\n",
      " [ 0.776       0.224     ]\n",
      " [ 0.882       0.118     ]\n",
      " [ 0.99304444  0.00695556]\n",
      " [ 0.926       0.074     ]\n",
      " [ 0.83894418  0.16105582]\n",
      " [ 0.7813      0.2187    ]\n",
      " [ 0.77166416  0.22833584]\n",
      " [ 0.78966667  0.21033333]\n",
      " [ 0.90771803  0.09228197]\n",
      " [ 0.936       0.064     ]\n",
      " [ 0.67012893  0.32987107]\n",
      " [ 0.77166416  0.22833584]\n",
      " [ 0.93        0.07      ]\n",
      " [ 0.448       0.552     ]\n",
      " [ 0.652       0.348     ]\n",
      " [ 0.38        0.62      ]\n",
      " [ 0.90771803  0.09228197]\n",
      " [ 0.58015029  0.41984971]\n",
      " [ 0.94        0.06      ]\n",
      " [ 0.90771803  0.09228197]\n",
      " [ 0.92425416  0.07574584]\n",
      " [ 1.          0.        ]\n",
      " [ 0.66033333  0.33966667]\n",
      " [ 1.          0.        ]\n",
      " [ 0.817493    0.182507  ]\n",
      " [ 0.9799      0.0201    ]\n",
      " [ 0.57421905  0.42578095]\n",
      " [ 0.92        0.08      ]\n",
      " [ 0.486       0.514     ]\n",
      " [ 0.68        0.32      ]\n",
      " [ 0.728       0.272     ]\n",
      " [ 1.          0.        ]\n",
      " [ 0.817493    0.182507  ]\n",
      " [ 0.376       0.624     ]\n",
      " [ 0.77166416  0.22833584]\n",
      " [ 0.732       0.268     ]\n",
      " [ 1.          0.        ]\n",
      " [ 0.62356667  0.37643333]\n",
      " [ 0.77563333  0.22436667]\n",
      " [ 0.754       0.246     ]\n",
      " [ 0.967       0.033     ]\n",
      " [ 0.58015029  0.41984971]\n",
      " [ 0.84        0.16      ]\n",
      " [ 0.90771803  0.09228197]\n",
      " [ 0.79646667  0.20353333]\n",
      " [ 0.92425416  0.07574584]\n",
      " [ 0.9481245   0.0518755 ]\n",
      " [ 0.90771803  0.09228197]\n",
      " [ 0.54        0.46      ]\n",
      " [ 0.588       0.412     ]\n",
      " [ 0.999       0.001     ]\n",
      " [ 0.56898333  0.43101667]\n",
      " [ 0.824       0.176     ]\n",
      " [ 0.93666667  0.06333333]\n",
      " [ 0.90771803  0.09228197]\n",
      " [ 1.          0.        ]\n",
      " [ 0.89        0.11      ]\n",
      " [ 0.37442381  0.62557619]\n",
      " [ 1.          0.        ]\n",
      " [ 0.48        0.52      ]\n",
      " [ 0.83894418  0.16105582]\n",
      " [ 0.8855      0.1145    ]\n",
      " [ 0.77166416  0.22833584]\n",
      " [ 0.817493    0.182507  ]\n",
      " [ 0.83894418  0.16105582]\n",
      " [ 0.402       0.598     ]\n",
      " [ 0.64        0.36      ]\n",
      " [ 0.97919048  0.02080952]\n",
      " [ 0.68999683  0.31000317]\n",
      " [ 0.97        0.03      ]\n",
      " [ 1.          0.        ]\n",
      " [ 0.98086667  0.01913333]\n",
      " [ 0.93416667  0.06583333]\n",
      " [ 1.          0.        ]\n",
      " [ 0.926       0.074     ]]\n"
     ]
    }
   ],
   "source": [
    "RFprobs = RFmodel.predict_proba(X_test)\n",
    "print(RFprobs)"
   ]
  },
  {
   "cell_type": "code",
   "execution_count": 98,
   "metadata": {
    "collapsed": false,
    "scrolled": true
   },
   "outputs": [
    {
     "name": "stdout",
     "output_type": "stream",
     "text": [
      "[[ 0.208       0.792     ]\n",
      " [ 0.276       0.724     ]\n",
      " [ 0.264       0.736     ]\n",
      " ..., \n",
      " [ 0.99666667  0.00333333]\n",
      " [ 0.95532963  0.04467037]\n",
      " [ 0.9954      0.0046    ]]\n"
     ]
    }
   ],
   "source": [
    "RFprobsTest = RFmodel.predict_proba(X_train)\n",
    "print(RFprobsTest)"
   ]
  },
  {
   "cell_type": "code",
   "execution_count": 100,
   "metadata": {
    "collapsed": true
   },
   "outputs": [],
   "source": [
    "RFpredict = RFmodel.predict_proba(X_test)"
   ]
  },
  {
   "cell_type": "code",
   "execution_count": 102,
   "metadata": {
    "collapsed": false
   },
   "outputs": [],
   "source": [
    "RFpredict = RFmodel.predict_proba(X_test)\n",
    "import pandas as pd\n",
    "import numpy as np\n",
    "RFsolution = pd.DataFrame(testdata['ID'])\n",
    "RFnp_values = np.array(RFpredict,dtype = np.float)\n",
    "solution['RFprobs'] = RFnp_values[:,1]\n",
    "solution.to_csv(\"RFoutput.csv\",index=False)"
   ]
  },
  {
   "cell_type": "code",
   "execution_count": 82,
   "metadata": {
    "collapsed": true
   },
   "outputs": [],
   "source": [
    "RFmatrix=confusion_matrix(Y_train,RFmodel.predict(X_train))"
   ]
  },
  {
   "cell_type": "code",
   "execution_count": 83,
   "metadata": {
    "collapsed": false
   },
   "outputs": [
    {
     "name": "stdout",
     "output_type": "stream",
     "text": [
      "[[432   6]\n",
      " [ 30 108]]\n"
     ]
    },
    {
     "data": {
      "image/png": "[encoded data removed]",
      "text/plain": [
       "<matplotlib.figure.Figure at 0x11af0a828>"
      ]
     },
     "metadata": {},
     "output_type": "display_data"
    }
   ],
   "source": [
    "import pylab as pl\n",
    "labels = ['0', '1']\n",
    "print(RFmatrix)\n",
    "fig = plt.figure()\n",
    "ax = fig.add_subplot(111)\n",
    "cax = ax.matshow(RFmatrix)\n",
    "pl.title('Random Forest Confusion Matrix')\n",
    "fig.colorbar(cax)\n",
    "ax.set_xticklabels([''] + labels)\n",
    "ax.set_yticklabels([''] + labels)\n",
    "pl.xlabel('X_train Predicted')\n",
    "pl.ylabel('Y_train')\n",
    "pl.show()"
   ]
  },
  {
   "cell_type": "code",
   "execution_count": 84,
   "metadata": {
    "collapsed": false
   },
   "outputs": [
    {
     "name": "stdout",
     "output_type": "stream",
     "text": [
      "0.972172589504\n"
     ]
    },
    {
     "data": {
      "image/png": "[encoded data removed]",
      "text/plain": [
       "<matplotlib.figure.Figure at 0x11ac77cc0>"
      ]
     },
     "metadata": {},
     "output_type": "display_data"
    }
   ],
   "source": [
    "print_roc_probas(\"Random Forest ROC\",RFprobsTest, Y_train)"
   ]
  },
  {
   "cell_type": "code",
   "execution_count": 85,
   "metadata": {
    "collapsed": false
   },
   "outputs": [
    {
     "data": {
      "text/plain": [
       "0.20679471440380848"
      ]
     },
     "execution_count": 85,
     "metadata": {},
     "output_type": "execute_result"
    }
   ],
   "source": [
    "#log loss for Random Forest\n",
    "metrics.log_loss(Y_train, RFprobsTest)"
   ]
  },
  {
   "cell_type": "code",
   "execution_count": 86,
   "metadata": {
    "collapsed": true
   },
   "outputs": [],
   "source": [
    "#k-nearest neighbors\n",
    "from sklearn import neighbors"
   ]
  },
  {
   "cell_type": "code",
   "execution_count": 87,
   "metadata": {
    "collapsed": false
   },
   "outputs": [
    {
     "data": {
      "text/plain": [
       "0.828125"
      ]
     },
     "execution_count": 87,
     "metadata": {},
     "output_type": "execute_result"
    }
   ],
   "source": [
    "KNmodel = neighbors.KNeighborsClassifier()\n",
    "KNmodel = KNmodel.fit(X_train, Y_train)\n",
    "KNmodel.score(X_train, Y_train)"
   ]
  },
  {
   "cell_type": "code",
   "execution_count": 88,
   "metadata": {
    "collapsed": false
   },
   "outputs": [
    {
     "name": "stdout",
     "output_type": "stream",
     "text": [
      "[[ 0.4  0.6]\n",
      " [ 1.   0. ]\n",
      " [ 0.8  0.2]\n",
      " [ 1.   0. ]\n",
      " [ 0.6  0.4]\n",
      " [ 0.2  0.8]\n",
      " [ 0.6  0.4]\n",
      " [ 1.   0. ]\n",
      " [ 0.8  0.2]\n",
      " [ 1.   0. ]\n",
      " [ 0.4  0.6]\n",
      " [ 1.   0. ]\n",
      " [ 0.8  0.2]\n",
      " [ 0.8  0.2]\n",
      " [ 0.4  0.6]\n",
      " [ 0.8  0.2]\n",
      " [ 1.   0. ]\n",
      " [ 0.2  0.8]\n",
      " [ 1.   0. ]\n",
      " [ 1.   0. ]\n",
      " [ 0.2  0.8]\n",
      " [ 0.4  0.6]\n",
      " [ 0.6  0.4]\n",
      " [ 0.8  0.2]\n",
      " [ 0.8  0.2]\n",
      " [ 1.   0. ]\n",
      " [ 0.6  0.4]\n",
      " [ 1.   0. ]\n",
      " [ 0.6  0.4]\n",
      " [ 0.4  0.6]\n",
      " [ 1.   0. ]\n",
      " [ 0.8  0.2]\n",
      " [ 0.8  0.2]\n",
      " [ 0.8  0.2]\n",
      " [ 0.6  0.4]\n",
      " [ 1.   0. ]\n",
      " [ 0.6  0.4]\n",
      " [ 1.   0. ]\n",
      " [ 0.6  0.4]\n",
      " [ 0.8  0.2]\n",
      " [ 0.4  0.6]\n",
      " [ 0.8  0.2]\n",
      " [ 1.   0. ]\n",
      " [ 0.6  0.4]\n",
      " [ 0.8  0.2]\n",
      " [ 0.8  0.2]\n",
      " [ 0.4  0.6]\n",
      " [ 0.8  0.2]\n",
      " [ 1.   0. ]\n",
      " [ 0.8  0.2]\n",
      " [ 0.8  0.2]\n",
      " [ 0.6  0.4]\n",
      " [ 0.6  0.4]\n",
      " [ 0.4  0.6]\n",
      " [ 1.   0. ]\n",
      " [ 0.6  0.4]\n",
      " [ 1.   0. ]\n",
      " [ 0.4  0.6]\n",
      " [ 0.6  0.4]\n",
      " [ 0.8  0.2]\n",
      " [ 0.8  0.2]\n",
      " [ 0.6  0.4]\n",
      " [ 0.6  0.4]\n",
      " [ 0.8  0.2]\n",
      " [ 0.6  0.4]\n",
      " [ 1.   0. ]\n",
      " [ 1.   0. ]\n",
      " [ 0.8  0.2]\n",
      " [ 0.4  0.6]\n",
      " [ 0.8  0.2]\n",
      " [ 0.8  0.2]\n",
      " [ 0.8  0.2]\n",
      " [ 1.   0. ]\n",
      " [ 0.8  0.2]\n",
      " [ 0.8  0.2]\n",
      " [ 1.   0. ]\n",
      " [ 0.8  0.2]\n",
      " [ 0.8  0.2]\n",
      " [ 0.8  0.2]\n",
      " [ 0.4  0.6]\n",
      " [ 1.   0. ]\n",
      " [ 1.   0. ]\n",
      " [ 0.6  0.4]\n",
      " [ 0.4  0.6]\n",
      " [ 0.8  0.2]\n",
      " [ 1.   0. ]\n",
      " [ 0.8  0.2]\n",
      " [ 1.   0. ]\n",
      " [ 0.8  0.2]\n",
      " [ 0.6  0.4]\n",
      " [ 0.8  0.2]\n",
      " [ 0.8  0.2]\n",
      " [ 0.8  0.2]\n",
      " [ 1.   0. ]\n",
      " [ 0.8  0.2]\n",
      " [ 0.8  0.2]\n",
      " [ 0.8  0.2]\n",
      " [ 1.   0. ]\n",
      " [ 1.   0. ]\n",
      " [ 0.6  0.4]\n",
      " [ 0.8  0.2]\n",
      " [ 1.   0. ]\n",
      " [ 1.   0. ]\n",
      " [ 0.6  0.4]\n",
      " [ 0.6  0.4]\n",
      " [ 0.4  0.6]\n",
      " [ 0.8  0.2]\n",
      " [ 0.6  0.4]\n",
      " [ 0.8  0.2]\n",
      " [ 0.6  0.4]\n",
      " [ 1.   0. ]\n",
      " [ 0.8  0.2]\n",
      " [ 0.8  0.2]\n",
      " [ 0.2  0.8]\n",
      " [ 1.   0. ]\n",
      " [ 0.8  0.2]\n",
      " [ 1.   0. ]\n",
      " [ 0.6  0.4]\n",
      " [ 0.4  0.6]\n",
      " [ 1.   0. ]\n",
      " [ 1.   0. ]\n",
      " [ 0.4  0.6]\n",
      " [ 0.8  0.2]\n",
      " [ 0.4  0.6]\n",
      " [ 0.8  0.2]\n",
      " [ 0.8  0.2]\n",
      " [ 0.8  0.2]\n",
      " [ 1.   0. ]\n",
      " [ 0.8  0.2]\n",
      " [ 0.8  0.2]\n",
      " [ 0.4  0.6]\n",
      " [ 0.8  0.2]\n",
      " [ 0.6  0.4]\n",
      " [ 0.8  0.2]\n",
      " [ 0.8  0.2]\n",
      " [ 0.6  0.4]\n",
      " [ 0.8  0.2]\n",
      " [ 1.   0. ]\n",
      " [ 0.6  0.4]\n",
      " [ 0.8  0.2]\n",
      " [ 0.2  0.8]\n",
      " [ 0.8  0.2]\n",
      " [ 0.6  0.4]\n",
      " [ 1.   0. ]\n",
      " [ 0.8  0.2]\n",
      " [ 1.   0. ]\n",
      " [ 1.   0. ]\n",
      " [ 0.4  0.6]\n",
      " [ 1.   0. ]\n",
      " [ 0.8  0.2]\n",
      " [ 1.   0. ]\n",
      " [ 0.6  0.4]\n",
      " [ 1.   0. ]\n",
      " [ 0.8  0.2]\n",
      " [ 0.6  0.4]\n",
      " [ 0.4  0.6]\n",
      " [ 1.   0. ]\n",
      " [ 0.8  0.2]\n",
      " [ 0.6  0.4]\n",
      " [ 0.8  0.2]\n",
      " [ 0.6  0.4]\n",
      " [ 1.   0. ]\n",
      " [ 0.6  0.4]\n",
      " [ 0.6  0.4]\n",
      " [ 0.6  0.4]\n",
      " [ 1.   0. ]\n",
      " [ 0.6  0.4]\n",
      " [ 1.   0. ]\n",
      " [ 0.8  0.2]\n",
      " [ 1.   0. ]\n",
      " [ 1.   0. ]\n",
      " [ 0.8  0.2]\n",
      " [ 0.8  0.2]\n",
      " [ 0.2  0.8]\n",
      " [ 0.8  0.2]\n",
      " [ 1.   0. ]\n",
      " [ 0.6  0.4]\n",
      " [ 0.8  0.2]\n",
      " [ 1.   0. ]\n",
      " [ 0.8  0.2]\n",
      " [ 1.   0. ]\n",
      " [ 0.8  0.2]\n",
      " [ 0.4  0.6]\n",
      " [ 1.   0. ]\n",
      " [ 0.4  0.6]\n",
      " [ 0.8  0.2]\n",
      " [ 0.8  0.2]\n",
      " [ 0.8  0.2]\n",
      " [ 0.8  0.2]\n",
      " [ 0.8  0.2]\n",
      " [ 0.6  0.4]\n",
      " [ 0.4  0.6]\n",
      " [ 1.   0. ]\n",
      " [ 0.8  0.2]\n",
      " [ 1.   0. ]\n",
      " [ 1.   0. ]\n",
      " [ 0.8  0.2]\n",
      " [ 0.8  0.2]\n",
      " [ 1.   0. ]\n",
      " [ 1.   0. ]]\n"
     ]
    }
   ],
   "source": [
    "KNprobs = KNmodel.predict_proba(X_test)\n",
    "#metrics.log_loss(Y_train, probs4)\n",
    "print(KNprobs)"
   ]
  },
  {
   "cell_type": "code",
   "execution_count": 89,
   "metadata": {
    "collapsed": false
   },
   "outputs": [
    {
     "name": "stdout",
     "output_type": "stream",
     "text": [
      "[[ 0.208       0.792     ]\n",
      " [ 0.276       0.724     ]\n",
      " [ 0.264       0.736     ]\n",
      " ..., \n",
      " [ 0.99666667  0.00333333]\n",
      " [ 0.95532963  0.04467037]\n",
      " [ 0.9954      0.0046    ]]\n"
     ]
    }
   ],
   "source": [
    "KNprobsTest = KNmodel.predict_proba(X_train)\n",
    "print(RFprobsTest)"
   ]
  },
  {
   "cell_type": "code",
   "execution_count": 103,
   "metadata": {
    "collapsed": true
   },
   "outputs": [],
   "source": [
    "KNpredict = KNmodel.predict_proba(X_test)\n",
    "import pandas as pd\n",
    "import numpy as np\n",
    "KNsolution = pd.DataFrame(testdata['ID'])\n",
    "KNnp_values = np.array(KNpredict,dtype = np.float)\n",
    "solution['KNprobs'] = KNnp_values[:,1]\n",
    "solution.to_csv(\"KNoutput.csv\",index=False)"
   ]
  },
  {
   "cell_type": "code",
   "execution_count": 90,
   "metadata": {
    "collapsed": true
   },
   "outputs": [],
   "source": [
    "KNmatrix=confusion_matrix(Y_train,KNmodel.predict(X_train))"
   ]
  },
  {
   "cell_type": "code",
   "execution_count": 91,
   "metadata": {
    "collapsed": false
   },
   "outputs": [
    {
     "name": "stdout",
     "output_type": "stream",
     "text": [
      "[[414  24]\n",
      " [ 75  63]]\n"
     ]
    },
    {
     "data": {
      "image/png": "[encoded data removed]",
      "text/plain": [
       "<matplotlib.figure.Figure at 0x11d11cd30>"
      ]
     },
     "metadata": {},
     "output_type": "display_data"
    }
   ],
   "source": [
    "import pylab as pl\n",
    "labels = ['0', '1']\n",
    "print(KNmatrix)\n",
    "fig = plt.figure()\n",
    "ax = fig.add_subplot(111)\n",
    "cax = ax.matshow(KNmatrix)\n",
    "pl.title('K Nearest Neighbor Confusion Matrix')\n",
    "fig.colorbar(cax)\n",
    "ax.set_xticklabels([''] + labels)\n",
    "ax.set_yticklabels([''] + labels)\n",
    "pl.xlabel('X_train Predicted')\n",
    "pl.ylabel('Y_train')\n",
    "pl.show()"
   ]
  },
  {
   "cell_type": "code",
   "execution_count": 92,
   "metadata": {
    "collapsed": false
   },
   "outputs": [
    {
     "name": "stdout",
     "output_type": "stream",
     "text": [
      "0.845063198994\n"
     ]
    },
    {
     "data": {
      "image/png": "[encoded data removed]",
      "text/plain": [
       "<matplotlib.figure.Figure at 0x11be53e10>"
      ]
     },
     "metadata": {},
     "output_type": "display_data"
    }
   ],
   "source": [
    "print_roc_probas(\"K Nearest Neighbor ROC\",KNprobsTest, Y_train)"
   ]
  },
  {
   "cell_type": "code",
   "execution_count": 93,
   "metadata": {
    "collapsed": false
   },
   "outputs": [
    {
     "data": {
      "text/plain": [
       "0.48068479873384656"
      ]
     },
     "execution_count": 93,
     "metadata": {},
     "output_type": "execute_result"
    }
   ],
   "source": [
    "metrics.log_loss(Y_train, KNprobsTest)"
   ]
  },
  {
   "cell_type": "code",
   "execution_count": null,
   "metadata": {
    "collapsed": true
   },
   "outputs": [],
   "source": []
  },
  {
   "cell_type": "code",
   "execution_count": null,
   "metadata": {
    "collapsed": true
   },
   "outputs": [],
   "source": []
  },
  {
   "cell_type": "code",
   "execution_count": null,
   "metadata": {
    "collapsed": true
   },
   "outputs": [],
   "source": []
  },
  {
   "cell_type": "code",
   "execution_count": null,
   "metadata": {
    "collapsed": true
   },
   "outputs": [],
   "source": []
  },
  {
   "cell_type": "code",
   "execution_count": null,
   "metadata": {
    "collapsed": true
   },
   "outputs": [],
   "source": []
  },
  {
   "cell_type": "code",
   "execution_count": null,
   "metadata": {
    "collapsed": true
   },
   "outputs": [],
   "source": []
  }
 ],
 "metadata": {
  "anaconda-cloud": {},
  "kernelspec": {
   "display_name": "Python [default]",
   "language": "python",
   "name": "python3"
  },
  "language_info": {
   "codemirror_mode": {
    "name": "ipython",
    "version": 3
   },
   "file_extension": ".py",
   "mimetype": "text/x-python",
   "name": "python",
   "nbconvert_exporter": "python",
   "pygments_lexer": "ipython3",
   "version": "3.5.2"
  }
 },
 "nbformat": 4,
 "nbformat_minor": 1
}
