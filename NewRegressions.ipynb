{
 "cells": [
  {
   "cell_type": "code",
   "execution_count": 3,
   "metadata": {
    "collapsed": false
   },
   "outputs": [],
   "source": [
    "%matplotlib inline\n",
    "import pandas\n",
    "traindata = pandas.read_csv(\"Training Data.csv\")\n",
    "testdata = pandas.read_csv(\"Test Data.csv\")"
   ]
  },
  {
   "cell_type": "code",
   "execution_count": 4,
   "metadata": {
    "collapsed": true
   },
   "outputs": [],
   "source": [
    "import numpy as np\n",
    "import statsmodels.api as sm\n",
    "import matplotlib.pyplot as plt\n",
    "from patsy import dmatrices\n",
    "from sklearn.linear_model import LogisticRegression\n",
    "#from sklearn.cross_validation import train_test_split\n",
    "from sklearn import metrics\n",
    "from sklearn.cross_validation import cross_val_score\n",
    "from sklearn import linear_model"
   ]
  },
  {
   "cell_type": "code",
   "execution_count": 5,
   "metadata": {
    "collapsed": true
   },
   "outputs": [],
   "source": [
    "traindata[\"Donation per Month\"] = traindata['Number of Donations']/(traindata['Months since First Donation']-traindata['Months since Last Donation']+1)"
   ]
  },
  {
   "cell_type": "code",
   "execution_count": 6,
   "metadata": {
    "collapsed": true
   },
   "outputs": [],
   "source": [
    "traindata[\"Consistency\"] = (traindata['Months since Last Donation']+1)/traindata['Months since First Donation']"
   ]
  },
  {
   "cell_type": "code",
   "execution_count": 7,
   "metadata": {
    "collapsed": false
   },
   "outputs": [
    {
     "data": {
      "text/html": [
       "<div>\n",
       "<table border=\"1\" class=\"dataframe\">\n",
       "  <thead>\n",
       "    <tr style=\"text-align: right;\">\n",
       "      <th></th>\n",
       "      <th>ID</th>\n",
       "      <th>Months since Last Donation</th>\n",
       "      <th>Number of Donations</th>\n",
       "      <th>Months since First Donation</th>\n",
       "      <th>Donation per Month</th>\n",
       "      <th>Month per Donation</th>\n",
       "      <th>Made Donation in March 2007</th>\n",
       "      <th>Consistency</th>\n",
       "    </tr>\n",
       "  </thead>\n",
       "  <tbody>\n",
       "    <tr>\n",
       "      <th>0</th>\n",
       "      <td>619</td>\n",
       "      <td>2</td>\n",
       "      <td>50</td>\n",
       "      <td>98</td>\n",
       "      <td>0.515464</td>\n",
       "      <td>1.940000</td>\n",
       "      <td>1</td>\n",
       "      <td>0.030612</td>\n",
       "    </tr>\n",
       "    <tr>\n",
       "      <th>1</th>\n",
       "      <td>664</td>\n",
       "      <td>0</td>\n",
       "      <td>13</td>\n",
       "      <td>28</td>\n",
       "      <td>0.448276</td>\n",
       "      <td>2.230769</td>\n",
       "      <td>1</td>\n",
       "      <td>0.035714</td>\n",
       "    </tr>\n",
       "    <tr>\n",
       "      <th>2</th>\n",
       "      <td>441</td>\n",
       "      <td>1</td>\n",
       "      <td>16</td>\n",
       "      <td>35</td>\n",
       "      <td>0.457143</td>\n",
       "      <td>2.187500</td>\n",
       "      <td>1</td>\n",
       "      <td>0.057143</td>\n",
       "    </tr>\n",
       "    <tr>\n",
       "      <th>3</th>\n",
       "      <td>160</td>\n",
       "      <td>2</td>\n",
       "      <td>20</td>\n",
       "      <td>45</td>\n",
       "      <td>0.454545</td>\n",
       "      <td>2.200000</td>\n",
       "      <td>1</td>\n",
       "      <td>0.066667</td>\n",
       "    </tr>\n",
       "    <tr>\n",
       "      <th>4</th>\n",
       "      <td>358</td>\n",
       "      <td>1</td>\n",
       "      <td>24</td>\n",
       "      <td>77</td>\n",
       "      <td>0.311688</td>\n",
       "      <td>3.208333</td>\n",
       "      <td>0</td>\n",
       "      <td>0.025974</td>\n",
       "    </tr>\n",
       "  </tbody>\n",
       "</table>\n",
       "</div>"
      ],
      "text/plain": [
       "    ID  Months since Last Donation  Number of Donations  \\\n",
       "0  619                           2                   50   \n",
       "1  664                           0                   13   \n",
       "2  441                           1                   16   \n",
       "3  160                           2                   20   \n",
       "4  358                           1                   24   \n",
       "\n",
       "   Months since First Donation  Donation per Month  Month per Donation  \\\n",
       "0                           98            0.515464            1.940000   \n",
       "1                           28            0.448276            2.230769   \n",
       "2                           35            0.457143            2.187500   \n",
       "3                           45            0.454545            2.200000   \n",
       "4                           77            0.311688            3.208333   \n",
       "\n",
       "   Made Donation in March 2007  Consistency  \n",
       "0                            1     0.030612  \n",
       "1                            1     0.035714  \n",
       "2                            1     0.057143  \n",
       "3                            1     0.066667  \n",
       "4                            0     0.025974  "
      ]
     },
     "execution_count": 7,
     "metadata": {},
     "output_type": "execute_result"
    }
   ],
   "source": [
    "traindata.head()"
   ]
  },
  {
   "cell_type": "code",
   "execution_count": 8,
   "metadata": {
    "collapsed": true
   },
   "outputs": [],
   "source": [
    "testdata[\"Donation per Month\"] = testdata['Number of Donations']/(testdata['Months since First Donation']-testdata['Months since Last Donation']+1)"
   ]
  },
  {
   "cell_type": "code",
   "execution_count": 9,
   "metadata": {
    "collapsed": true
   },
   "outputs": [],
   "source": [
    "testdata[\"Consistency\"] = (testdata['Months since Last Donation']+1)/testdata['Months since First Donation']"
   ]
  },
  {
   "cell_type": "code",
   "execution_count": 10,
   "metadata": {
    "collapsed": false
   },
   "outputs": [
    {
     "data": {
      "text/html": [
       "<div>\n",
       "<table border=\"1\" class=\"dataframe\">\n",
       "  <thead>\n",
       "    <tr style=\"text-align: right;\">\n",
       "      <th></th>\n",
       "      <th>ID</th>\n",
       "      <th>Months since Last Donation</th>\n",
       "      <th>Number of Donations</th>\n",
       "      <th>Total Volume Donated (c.c.)</th>\n",
       "      <th>Months since First Donation</th>\n",
       "      <th>KNprobs</th>\n",
       "      <th>GBprobs</th>\n",
       "      <th>RFprobs</th>\n",
       "      <th>Prediction</th>\n",
       "      <th>Donation per Month</th>\n",
       "      <th>Consistency</th>\n",
       "    </tr>\n",
       "  </thead>\n",
       "  <tbody>\n",
       "    <tr>\n",
       "      <th>0</th>\n",
       "      <td>659</td>\n",
       "      <td>2</td>\n",
       "      <td>12</td>\n",
       "      <td>3000</td>\n",
       "      <td>52</td>\n",
       "      <td>0.333333</td>\n",
       "      <td>0.695496</td>\n",
       "      <td>0.649862</td>\n",
       "      <td>NaN</td>\n",
       "      <td>0.235294</td>\n",
       "      <td>0.057692</td>\n",
       "    </tr>\n",
       "    <tr>\n",
       "      <th>1</th>\n",
       "      <td>276</td>\n",
       "      <td>21</td>\n",
       "      <td>7</td>\n",
       "      <td>1750</td>\n",
       "      <td>38</td>\n",
       "      <td>0.000000</td>\n",
       "      <td>0.074129</td>\n",
       "      <td>0.056667</td>\n",
       "      <td>NaN</td>\n",
       "      <td>0.388889</td>\n",
       "      <td>0.578947</td>\n",
       "    </tr>\n",
       "    <tr>\n",
       "      <th>2</th>\n",
       "      <td>263</td>\n",
       "      <td>4</td>\n",
       "      <td>1</td>\n",
       "      <td>250</td>\n",
       "      <td>4</td>\n",
       "      <td>0.333333</td>\n",
       "      <td>0.155031</td>\n",
       "      <td>0.097526</td>\n",
       "      <td>NaN</td>\n",
       "      <td>1.000000</td>\n",
       "      <td>1.250000</td>\n",
       "    </tr>\n",
       "    <tr>\n",
       "      <th>3</th>\n",
       "      <td>303</td>\n",
       "      <td>11</td>\n",
       "      <td>11</td>\n",
       "      <td>2750</td>\n",
       "      <td>38</td>\n",
       "      <td>0.000000</td>\n",
       "      <td>0.080546</td>\n",
       "      <td>0.070000</td>\n",
       "      <td>NaN</td>\n",
       "      <td>0.392857</td>\n",
       "      <td>0.315789</td>\n",
       "    </tr>\n",
       "    <tr>\n",
       "      <th>4</th>\n",
       "      <td>83</td>\n",
       "      <td>4</td>\n",
       "      <td>12</td>\n",
       "      <td>3000</td>\n",
       "      <td>34</td>\n",
       "      <td>0.333333</td>\n",
       "      <td>0.393935</td>\n",
       "      <td>0.575667</td>\n",
       "      <td>NaN</td>\n",
       "      <td>0.387097</td>\n",
       "      <td>0.147059</td>\n",
       "    </tr>\n",
       "  </tbody>\n",
       "</table>\n",
       "</div>"
      ],
      "text/plain": [
       "    ID  Months since Last Donation  Number of Donations  \\\n",
       "0  659                           2                   12   \n",
       "1  276                          21                    7   \n",
       "2  263                           4                    1   \n",
       "3  303                          11                   11   \n",
       "4   83                           4                   12   \n",
       "\n",
       "   Total Volume Donated (c.c.)  Months since First Donation   KNprobs  \\\n",
       "0                         3000                           52  0.333333   \n",
       "1                         1750                           38  0.000000   \n",
       "2                          250                            4  0.333333   \n",
       "3                         2750                           38  0.000000   \n",
       "4                         3000                           34  0.333333   \n",
       "\n",
       "    GBprobs   RFprobs  Prediction  Donation per Month  Consistency  \n",
       "0  0.695496  0.649862         NaN            0.235294     0.057692  \n",
       "1  0.074129  0.056667         NaN            0.388889     0.578947  \n",
       "2  0.155031  0.097526         NaN            1.000000     1.250000  \n",
       "3  0.080546  0.070000         NaN            0.392857     0.315789  \n",
       "4  0.393935  0.575667         NaN            0.387097     0.147059  "
      ]
     },
     "execution_count": 10,
     "metadata": {},
     "output_type": "execute_result"
    }
   ],
   "source": [
    "testdata.head()"
   ]
  },
  {
   "cell_type": "code",
   "execution_count": 11,
   "metadata": {
    "collapsed": false
   },
   "outputs": [],
   "source": [
    "X_train = traindata[['Months since Last Donation','Number of Donations','Months since First Donation','Donation per Month','Consistency']]\n",
    "#X_train = traindata[['Donation per Month']]\n",
    "Y_train = traindata['Made Donation in March 2007']\n",
    "X_test = testdata[['Months since Last Donation','Number of Donations','Months since First Donation','Donation per Month','Consistency']]\n",
    "Y_test = testdata['Prediction']"
   ]
  },
  {
   "cell_type": "code",
   "execution_count": 12,
   "metadata": {
    "collapsed": false
   },
   "outputs": [
    {
     "data": {
      "text/plain": [
       "<matplotlib.axes._subplots.AxesSubplot at 0x118056710>"
      ]
     },
     "execution_count": 12,
     "metadata": {},
     "output_type": "execute_result"
    },
    {
     "data": {
      "image/png": "[encoded data removed]",
      "text/plain": [
       "<matplotlib.figure.Figure at 0x1180562b0>"
      ]
     },
     "metadata": {},
     "output_type": "display_data"
    }
   ],
   "source": [
    "cons=traindata['Consistency']\n",
    "cons.plot.box()"
   ]
  },
  {
   "cell_type": "code",
   "execution_count": 13,
   "metadata": {
    "collapsed": false
   },
   "outputs": [
    {
     "data": {
      "text/plain": [
       "<matplotlib.axes._subplots.AxesSubplot at 0x11a451ac8>"
      ]
     },
     "execution_count": 13,
     "metadata": {},
     "output_type": "execute_result"
    },
    {
     "data": {
      "image/png": "[encoded data removed]",
      "text/plain": [
       "<matplotlib.figure.Figure at 0x11a4bab38>"
      ]
     },
     "metadata": {},
     "output_type": "display_data"
    }
   ],
   "source": [
    "cons.plot.hist(color='g',alpha=0.5,bins=20)"
   ]
  },
  {
   "cell_type": "code",
   "execution_count": 14,
   "metadata": {
    "collapsed": false
   },
   "outputs": [
    {
     "data": {
      "text/plain": [
       "<matplotlib.axes._subplots.AxesSubplot at 0x11aad82e8>"
      ]
     },
     "execution_count": 14,
     "metadata": {},
     "output_type": "execute_result"
    },
    {
     "data": {
      "image/png": "[encoded data removed]",
      "text/plain": [
       "<matplotlib.figure.Figure at 0x11aa74c18>"
      ]
     },
     "metadata": {},
     "output_type": "display_data"
    }
   ],
   "source": [
    "traindata.plot.scatter(x=\"Consistency\",y=\"Donation per Month\")"
   ]
  },
  {
   "cell_type": "code",
   "execution_count": 15,
   "metadata": {
    "collapsed": true
   },
   "outputs": [],
   "source": [
    "X_train = X_train.as_matrix().astype(np.float)\n",
    "X_test = X_test.as_matrix().astype(np.float)\n",
    "Y_train = Y_train.as_matrix().astype(np.float)\n",
    "Y_test = Y_test.as_matrix().astype(np.float)"
   ]
  },
  {
   "cell_type": "markdown",
   "metadata": {},
   "source": [
    "Logistic Regression"
   ]
  },
  {
   "cell_type": "code",
   "execution_count": 16,
   "metadata": {
    "collapsed": false
   },
   "outputs": [
    {
     "data": {
      "text/plain": [
       "0.78472222222222221"
      ]
     },
     "execution_count": 16,
     "metadata": {},
     "output_type": "execute_result"
    }
   ],
   "source": [
    "LRmodel = linear_model.LogisticRegression()\n",
    "LRmodel = LRmodel.fit(X_train, Y_train)\n",
    "LRmodel.score(X_train, Y_train)"
   ]
  },
  {
   "cell_type": "markdown",
   "metadata": {},
   "source": [
    "Random Forest "
   ]
  },
  {
   "cell_type": "code",
   "execution_count": 17,
   "metadata": {
    "collapsed": false
   },
   "outputs": [
    {
     "data": {
      "text/plain": [
       "0.9375"
      ]
     },
     "execution_count": 17,
     "metadata": {},
     "output_type": "execute_result"
    }
   ],
   "source": [
    "import sklearn.ensemble as sk\n",
    "rfc = sk.RandomForestClassifier(n_estimators=500, oob_score=True)\n",
    "RFmodel = rfc.fit(X_train, Y_train)\n",
    "RFmodel.score(X_train, Y_train)"
   ]
  },
  {
   "cell_type": "markdown",
   "metadata": {},
   "source": [
    "K-Nearest neighbors"
   ]
  },
  {
   "cell_type": "code",
   "execution_count": 18,
   "metadata": {
    "collapsed": false
   },
   "outputs": [
    {
     "data": {
      "text/plain": [
       "0.83854166666666663"
      ]
     },
     "execution_count": 18,
     "metadata": {},
     "output_type": "execute_result"
    }
   ],
   "source": [
    "from sklearn import neighbors\n",
    "KNmodel = neighbors.KNeighborsClassifier(n_neighbors=3)\n",
    "KNmodel = KNmodel.fit(X_train, Y_train)\n",
    "KNmodel.score(X_train, Y_train)"
   ]
  },
  {
   "cell_type": "code",
   "execution_count": 27,
   "metadata": {
    "collapsed": false
   },
   "outputs": [
    {
     "data": {
      "text/plain": [
       "0.88194444444444442"
      ]
     },
     "execution_count": 27,
     "metadata": {},
     "output_type": "execute_result"
    }
   ],
   "source": [
    "GBmodel = sk.GradientBoostingClassifier()\n",
    "GBmodel = GBmodel.fit(X_train,Y_train)\n",
    "GBmodel.score(X_train, Y_train)"
   ]
  },
  {
   "cell_type": "code",
   "execution_count": 36,
   "metadata": {
    "collapsed": false
   },
   "outputs": [
    {
     "data": {
      "text/plain": [
       "0.14130099726696188"
      ]
     },
     "execution_count": 36,
     "metadata": {},
     "output_type": "execute_result"
    }
   ],
   "source": [
    "from sklearn.linear_model import Ridge\n",
    "RDmodel = Ridge()\n",
    "RDmodel = RDmodel.fit(X_train, Y_train)\n",
    "RDmodel.score(X_train, Y_train)"
   ]
  },
  {
   "cell_type": "code",
   "execution_count": 35,
   "metadata": {
    "collapsed": false
   },
   "outputs": [
    {
     "ename": "AttributeError",
     "evalue": "'Ridge' object has no attribute 'predict_proba'",
     "output_type": "error",
     "traceback": [
      "\u001b[0;31m---------------------------------------------------------------------------\u001b[0m",
      "\u001b[0;31mAttributeError\u001b[0m                            Traceback (most recent call last)",
      "\u001b[0;32m<ipython-input-35-9606bdd202bb>\u001b[0m in \u001b[0;36m<module>\u001b[0;34m()\u001b[0m\n\u001b[1;32m     25\u001b[0m \u001b[0mGBsolution_t\u001b[0m\u001b[0;34m.\u001b[0m\u001b[0mto_csv\u001b[0m\u001b[0;34m(\u001b[0m\u001b[0;34m\"GBoutput_t.csv\"\u001b[0m\u001b[0;34m,\u001b[0m\u001b[0mindex\u001b[0m\u001b[0;34m=\u001b[0m\u001b[0;32mFalse\u001b[0m\u001b[0;34m)\u001b[0m\u001b[0;34m\u001b[0m\u001b[0m\n\u001b[1;32m     26\u001b[0m \u001b[0;31m##Ridge\u001b[0m\u001b[0;34m\u001b[0m\u001b[0;34m\u001b[0m\u001b[0m\n\u001b[0;32m---> 27\u001b[0;31m \u001b[0mRDpredict_t\u001b[0m \u001b[0;34m=\u001b[0m \u001b[0mRDmodel\u001b[0m\u001b[0;34m.\u001b[0m\u001b[0mpredict_proba\u001b[0m\u001b[0;34m(\u001b[0m\u001b[0mX_train\u001b[0m\u001b[0;34m)\u001b[0m\u001b[0;34m\u001b[0m\u001b[0m\n\u001b[0m\u001b[1;32m     28\u001b[0m \u001b[0mRDsolution_t\u001b[0m \u001b[0;34m=\u001b[0m \u001b[0mpd\u001b[0m\u001b[0;34m.\u001b[0m\u001b[0mDataFrame\u001b[0m\u001b[0;34m(\u001b[0m\u001b[0mtraindata\u001b[0m\u001b[0;34m[\u001b[0m\u001b[0;34m'ID'\u001b[0m\u001b[0;34m]\u001b[0m\u001b[0;34m)\u001b[0m\u001b[0;34m\u001b[0m\u001b[0m\n\u001b[1;32m     29\u001b[0m \u001b[0mRDnp_values_t\u001b[0m \u001b[0;34m=\u001b[0m \u001b[0mnp\u001b[0m\u001b[0;34m.\u001b[0m\u001b[0marray\u001b[0m\u001b[0;34m(\u001b[0m\u001b[0mRDpredict_t\u001b[0m\u001b[0;34m,\u001b[0m\u001b[0mdtype\u001b[0m \u001b[0;34m=\u001b[0m \u001b[0mnp\u001b[0m\u001b[0;34m.\u001b[0m\u001b[0mfloat\u001b[0m\u001b[0;34m)\u001b[0m\u001b[0;34m\u001b[0m\u001b[0m\n",
      "\u001b[0;31mAttributeError\u001b[0m: 'Ridge' object has no attribute 'predict_proba'"
     ]
    }
   ],
   "source": [
    "import pandas as pd\n",
    "import numpy as np\n",
    "LRpredict_t = LRmodel.predict_proba(X_train)\n",
    "LRsolution_t = pd.DataFrame(traindata['ID'])\n",
    "LRnp_values_t = np.array(LRpredict_t,dtype = np.float)\n",
    "LRsolution_t['LRprobs'] = LRnp_values_t[:,1]\n",
    "LRsolution_t.to_csv(\"LRoutput_t.csv\",index=False)\n",
    "##random forest\n",
    "RFpredict_t = RFmodel.predict_proba(X_train)\n",
    "RFsolution_t = pd.DataFrame(traindata['ID'])\n",
    "RFnp_values_t = np.array(RFpredict_t,dtype = np.float)\n",
    "RFsolution_t['RFprobs'] = RFnp_values_t[:,1]\n",
    "RFsolution_t.to_csv(\"RFoutput_t.csv\",index=False)\n",
    "##Nearest Neighbor\n",
    "KNpredict_t = KNmodel.predict_proba(X_train)\n",
    "KNsolution_t = pd.DataFrame(traindata['ID'])\n",
    "KNnp_values_t = np.array(KNpredict_t,dtype = np.float)\n",
    "KNsolution_t['KNprobs'] = KNnp_values_t[:,1]\n",
    "KNsolution_t.to_csv(\"KNoutput_t.csv\",index=False)\n",
    "##Gradient Boosting\n",
    "GBpredict_t = GBmodel.predict_proba(X_train)\n",
    "GBsolution_t = pd.DataFrame(traindata['ID'])\n",
    "GBnp_values_t = np.array(GBpredict_t,dtype = np.float)\n",
    "GBsolution_t['GBprobs'] = GBnp_values_t[:,1]\n",
    "GBsolution_t.to_csv(\"GBoutput_t.csv\",index=False)\n",
    "##Ridge\n",
    "RDpredict_t = RDmodel.predict_proba(X_train)\n",
    "RDsolution_t = pd.DataFrame(traindata['ID'])\n",
    "RDnp_values_t = np.array(RDpredict_t,dtype = np.float)\n",
    "RDsolution_t['RDprobs'] = RDnp_values_t[:,1]\n",
    "RDsolution_t.to_csv(\"RDoutput_t.csv\",index=False)"
   ]
  },
  {
   "cell_type": "code",
   "execution_count": 19,
   "metadata": {
    "collapsed": false
   },
   "outputs": [],
   "source": [
    "import pandas as pd\n",
    "import numpy as np\n",
    "LRpredict = LRmodel.predict_proba(X_test)\n",
    "LRsolution = pd.DataFrame(testdata['ID'])\n",
    "LRnp_values = np.array(LRpredict,dtype = np.float)\n",
    "LRsolution['LRprobs'] = LRnp_values[:,1]\n",
    "LRsolution.to_csv(\"LRoutput2.csv\",index=False)\n",
    "##random forest\n",
    "RFpredict = RFmodel.predict_proba(X_test)\n",
    "RFsolution = pd.DataFrame(testdata['ID'])\n",
    "RFnp_values = np.array(RFpredict,dtype = np.float)\n",
    "RFsolution['RFprobs'] = RFnp_values[:,1]\n",
    "RFsolution.to_csv(\"RFoutput2.csv\",index=False)\n",
    "##Nearest Neighbor\n",
    "KNpredict = KNmodel.predict_proba(X_test)\n",
    "KNsolution = pd.DataFrame(testdata['ID'])\n",
    "KNnp_values = np.array(KNpredict,dtype = np.float)\n",
    "KNsolution['KNprobs'] = KNnp_values[:,1]\n",
    "KNsolution.to_csv(\"KNoutput2.csv\",index=False)\n",
    "##Gradient Boosting\n",
    "GBpredict = GBmodel.predict_proba(X_test)\n",
    "GBsolution = pd.DataFrame(testdata['ID'])\n",
    "GBnp_values = np.array(GBpredict,dtype = np.float)\n",
    "GBsolution['GBprobs'] = GBnp_values[:,1]\n",
    "GBsolution.to_csv(\"GBoutput1.csv\",index=False)"
   ]
  },
  {
   "cell_type": "markdown",
   "metadata": {
    "collapsed": true
   },
   "source": [
    "Log losses:"
   ]
  },
  {
   "cell_type": "code",
   "execution_count": 20,
   "metadata": {
    "collapsed": false
   },
   "outputs": [
    {
     "data": {
      "text/plain": [
       "0.47377419419647254"
      ]
     },
     "execution_count": 20,
     "metadata": {},
     "output_type": "execute_result"
    }
   ],
   "source": [
    "#LR:0.48318\n",
    "LRtest = LRmodel.predict_proba(X_train)\n",
    "metrics.log_loss(Y_train, LRtest)"
   ]
  },
  {
   "cell_type": "code",
   "execution_count": 21,
   "metadata": {
    "collapsed": false
   },
   "outputs": [
    {
     "data": {
      "text/plain": [
       "0.20677442006457708"
      ]
     },
     "execution_count": 21,
     "metadata": {},
     "output_type": "execute_result"
    }
   ],
   "source": [
    "#RF:20679\n",
    "RFtest = RFmodel.predict_proba(X_train)\n",
    "metrics.log_loss(Y_train, RFtest)"
   ]
  },
  {
   "cell_type": "code",
   "execution_count": 22,
   "metadata": {
    "collapsed": false
   },
   "outputs": [
    {
     "data": {
      "text/plain": [
       "0.48599873405125293"
      ]
     },
     "execution_count": 22,
     "metadata": {},
     "output_type": "execute_result"
    }
   ],
   "source": [
    "#KN:0.48068\n",
    "KNtest = KNmodel.predict_proba(X_train)\n",
    "metrics.log_loss(Y_train, KNtest)"
   ]
  },
  {
   "cell_type": "code",
   "execution_count": 23,
   "metadata": {
    "collapsed": false
   },
   "outputs": [
    {
     "data": {
      "text/plain": [
       "0.30916282059467182"
      ]
     },
     "execution_count": 23,
     "metadata": {},
     "output_type": "execute_result"
    }
   ],
   "source": [
    "##GB:\n",
    "GBtest = GBmodel.predict_proba(X_train)\n",
    "metrics.log_loss(Y_train, GBtest)"
   ]
  },
  {
   "cell_type": "code",
   "execution_count": null,
   "metadata": {
    "collapsed": true
   },
   "outputs": [],
   "source": []
  }
 ],
 "metadata": {
  "anaconda-cloud": {},
  "kernelspec": {
   "display_name": "Python [default]",
   "language": "python",
   "name": "python3"
  },
  "language_info": {
   "codemirror_mode": {
    "name": "ipython",
    "version": 3
   },
   "file_extension": ".py",
   "mimetype": "text/x-python",
   "name": "python",
   "nbconvert_exporter": "python",
   "pygments_lexer": "ipython3",
   "version": "3.5.2"
  }
 },
 "nbformat": 4,
 "nbformat_minor": 1
}
